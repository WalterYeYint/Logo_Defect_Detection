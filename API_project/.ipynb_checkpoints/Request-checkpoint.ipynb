{
 "cells": [
  {
   "cell_type": "code",
   "execution_count": 14,
   "id": "4004dd3f",
   "metadata": {},
   "outputs": [
    {
     "name": "stdout",
     "output_type": "stream",
     "text": [
      "Collecting opencv-python\n",
      "  Downloading opencv_python-4.5.5.62-cp36-abi3-manylinux_2_17_x86_64.manylinux2014_x86_64.whl (60.4 MB)\n",
      "\u001b[K     |████████████████████████████████| 60.4 MB 68 kB/s  eta 0:00:01     |█████████████▎                  | 25.0 MB 908 kB/s eta 0:00:39     |███████████████▊                | 29.7 MB 44 kB/s eta 0:11:29     |████████████████████▏           | 38.0 MB 336 kB/s eta 0:01:07     |████████████████████▉           | 39.3 MB 529 kB/s eta 0:00:40     |██████████████████████          | 41.5 MB 146 kB/s eta 0:02:10     |███████████████████████████▍    | 51.7 MB 590 kB/s eta 0:00:15     |███████████████████████████▉    | 52.6 MB 305 kB/s eta 0:00:26     |███████████████████████████████▊| 59.9 MB 321 kB/s eta 0:00:02\n",
      "\u001b[?25hRequirement already satisfied: numpy>=1.19.3 in /home/sandeep/anaconda3/lib/python3.9/site-packages (from opencv-python) (1.20.3)\n",
      "Installing collected packages: opencv-python\n",
      "Successfully installed opencv-python-4.5.5.62\n"
     ]
    }
   ],
   "source": [
    "!pip install opencv-python"
   ]
  },
  {
   "cell_type": "code",
   "execution_count": 15,
   "id": "e38140d1",
   "metadata": {
    "scrolled": false
   },
   "outputs": [],
   "source": [
    "import os, requests\n",
    "import cv2"
   ]
  },
  {
   "cell_type": "code",
   "execution_count": 3,
   "id": "37f20391",
   "metadata": {},
   "outputs": [],
   "source": [
    "url = \"http://127.0.0.1:8000/detections/\"\n",
    "# url = \"http://127.0.0.1:8000/violations/\""
   ]
  },
  {
   "cell_type": "code",
   "execution_count": 30,
   "id": "72066e8d",
   "metadata": {},
   "outputs": [],
   "source": [
    "response = requests.get(url)"
   ]
  },
  {
   "cell_type": "code",
   "execution_count": 31,
   "id": "86c6b615",
   "metadata": {},
   "outputs": [
    {
     "data": {
      "text/plain": [
       "[{'serial_no': 1,\n",
       "  'time': '2022-02-11T09:51:11Z',\n",
       "  'image': '/media/images/7.jpg',\n",
       "  'result': 'not assigned'},\n",
       " {'serial_no': 2,\n",
       "  'time': '2022-02-11T10:44:38Z',\n",
       "  'image': '/media/images/7_KzW7Dh8.jpg',\n",
       "  'result': 'dummy'},\n",
       " {'serial_no': 3,\n",
       "  'time': '2022-02-11T17:29:05.715114Z',\n",
       "  'image': '/media/images/img.jpg',\n",
       "  'result': 'ok'},\n",
       " {'serial_no': 4,\n",
       "  'time': '2022-02-11T17:30:24.867186Z',\n",
       "  'image': '/media/images/img_VUugxND.jpg',\n",
       "  'result': 'ok'},\n",
       " {'serial_no': 5,\n",
       "  'time': '2022-02-11T17:32:08.582635Z',\n",
       "  'image': '/media/images/img_QTc8aCZ.jpg',\n",
       "  'result': 'ok'},\n",
       " {'serial_no': 6,\n",
       "  'time': '2022-02-11T17:32:13.265256Z',\n",
       "  'image': '/media/images/img_mfH1CWh.jpg',\n",
       "  'result': 'ok'}]"
      ]
     },
     "execution_count": 31,
     "metadata": {},
     "output_type": "execute_result"
    }
   ],
   "source": [
    "(response.json())"
   ]
  },
  {
   "cell_type": "code",
   "execution_count": 9,
   "id": "2d4e0b41",
   "metadata": {},
   "outputs": [],
   "source": [
    "response = requests.get(url+img)"
   ]
  },
  {
   "cell_type": "code",
   "execution_count": 7,
   "id": "847c835d",
   "metadata": {
    "scrolled": true
   },
   "outputs": [],
   "source": [
    "img = response.json()[0]['image']"
   ]
  },
  {
   "cell_type": "code",
   "execution_count": 10,
   "id": "a4259947",
   "metadata": {},
   "outputs": [],
   "source": [
    "def mkdir(path):    \n",
    "    try:\n",
    "        if(os.path.isdir(path)==False):\n",
    "            os.mkdir(path)\n",
    "        return True\n",
    "    except:\n",
    "        return False"
   ]
  },
  {
   "cell_type": "code",
   "execution_count": 8,
   "id": "ab5a878b",
   "metadata": {},
   "outputs": [
    {
     "data": {
      "text/plain": [
       "'/media/images/7.jpg'"
      ]
     },
     "execution_count": 8,
     "metadata": {},
     "output_type": "execute_result"
    }
   ],
   "source": [
    "img"
   ]
  },
  {
   "cell_type": "code",
   "execution_count": 11,
   "id": "6dd25cf5",
   "metadata": {},
   "outputs": [
    {
     "data": {
      "text/plain": [
       "True"
      ]
     },
     "execution_count": 11,
     "metadata": {},
     "output_type": "execute_result"
    }
   ],
   "source": [
    "cwd = os.getcwd()\n",
    "\n",
    "mkdir(cwd+'/'+'temp')\n",
    "mkdir(cwd+'/'+'Detected')"
   ]
  },
  {
   "cell_type": "code",
   "execution_count": 26,
   "id": "4a24fcda",
   "metadata": {},
   "outputs": [],
   "source": [
    "import cv2, requests\n",
    "from datetime import datetime\n",
    "def upload_to_server(frame, serial_no, server_url = url,save_failed=True):\n",
    "    \"\"\" Parameters:\n",
    "        frame : OpenCV frame of the image to be uploaded\n",
    "        server_url   : URL of the server\n",
    "        save_failed(True/False) : Save frame localy if uploading on server failed.\"\"\"\n",
    "    \n",
    "    cv2.imwrite('temp/img.jpg',frame)\n",
    "    file = {'image':open('temp/img.jpg','rb')}\n",
    "    x = datetime.now()\n",
    "    data = {\"serial_no\": serial_no,\n",
    "            \"time\":x, \n",
    "            \"result\": \"ok\"\n",
    "           }\n",
    "    \n",
    "    response = requests.post(server_url,files=file,data=data)\n",
    "    if(response!=201) and save_failed:\n",
    "        date_now = x.strftime(\"%d\")+'_'+x.strftime(\"%m\")+'_'+x.strftime(\"%Y\")+'_'+x.strftime(\"%H\")+'_'+x.strftime(\"%M\")+'_'+x.strftime(\"%S\")[:-1]\n",
    "        cv2.imwrite(cwd+\"/Detected/\"+date_now+'.png',frame)\n",
    "    return response"
   ]
  },
  {
   "cell_type": "code",
   "execution_count": 17,
   "id": "327042a9",
   "metadata": {},
   "outputs": [
    {
     "name": "stdout",
     "output_type": "stream",
     "text": [
      " Parameters:\n",
      "        frame : OpenCV frame of the image to be uploaded\n",
      "        server_url   : URL of the server\n",
      "        save_failed(True/False) : Save frame localy if uploading on server failed.\n"
     ]
    }
   ],
   "source": [
    "print(upload_to_server.__doc__)"
   ]
  },
  {
   "cell_type": "code",
   "execution_count": 3,
   "id": "9e06a2ac",
   "metadata": {},
   "outputs": [
    {
     "name": "stdout",
     "output_type": "stream",
     "text": [
      "09_09_2021\n"
     ]
    }
   ],
   "source": [
    "from datetime import datetime\n",
    "x = datetime.now()\n",
    "date_now = x.strftime(\"%d\")+'_'+x.strftime(\"%m\")+'_'+x.strftime(\"%Y\")#+'_'+x.strftime(\"%H\")+'_'+x.strftime(\"%M\")+'_'+x.strftime(\"%S\")[:-1]\n",
    "print(date_now)"
   ]
  },
  {
   "cell_type": "code",
   "execution_count": 24,
   "id": "269db7bc",
   "metadata": {},
   "outputs": [],
   "source": [
    "serial_no = 5"
   ]
  },
  {
   "cell_type": "code",
   "execution_count": 29,
   "id": "6f6da1a4",
   "metadata": {},
   "outputs": [
    {
     "name": "stdout",
     "output_type": "stream",
     "text": [
      "201\n"
     ]
    }
   ],
   "source": [
    "frame = cv2.imread(\"Shared/7.jpg\")\n",
    "result = 'ok'\n",
    "response = upload_to_server(frame, serial_no, result)\n",
    "print(response.status_code)\n",
    "serial_no += 1"
   ]
  },
  {
   "cell_type": "code",
   "execution_count": 28,
   "id": "9c350c5b",
   "metadata": {},
   "outputs": [
    {
     "name": "stdout",
     "output_type": "stream",
     "text": [
      "\u001b[0m\u001b[01;34mAI_CRHD_api\u001b[0m/  \u001b[01;34mDetected\u001b[0m/  Request.ipynb  \u001b[01;34mShared\u001b[0m/  \u001b[01;34mtemp\u001b[0m/\r\n"
     ]
    }
   ],
   "source": [
    "ls"
   ]
  },
  {
   "cell_type": "code",
   "execution_count": null,
   "id": "6cc199a1",
   "metadata": {},
   "outputs": [],
   "source": []
  }
 ],
 "metadata": {
  "kernelspec": {
   "display_name": "Python 3 (ipykernel)",
   "language": "python",
   "name": "python3"
  },
  "language_info": {
   "codemirror_mode": {
    "name": "ipython",
    "version": 3
   },
   "file_extension": ".py",
   "mimetype": "text/x-python",
   "name": "python",
   "nbconvert_exporter": "python",
   "pygments_lexer": "ipython3",
   "version": "3.9.7"
  }
 },
 "nbformat": 4,
 "nbformat_minor": 5
}
